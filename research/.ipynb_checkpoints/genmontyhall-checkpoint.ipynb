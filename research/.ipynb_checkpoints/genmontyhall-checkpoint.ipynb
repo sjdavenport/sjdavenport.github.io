{
 "cells": [
  {
   "cell_type": "code",
   "execution_count": null,
   "id": "91ad4036-16f7-4c6d-a5ee-d34ea3f5b13c",
   "metadata": {},
   "outputs": [],
   "source": [
    "import numpy as np\n",
    "\n",
    "nsim = 10000\n",
    "ndoors = 3\n",
    "\n",
    "# Randomly place the car behind one of the doors\n",
    "car_locations = np.random.randint(1, ndoors + 1, nsim)\n",
    "true_locations = np.zeros((nsim, ndoors), dtype=int)\n",
    "\n",
    "for i in range(nsim):\n",
    "    true_locations[i, car_locations[i] - 1] = 1  # Adjust for zero-based indexing\n",
    "\n",
    "# Initial random door choice\n",
    "initial_door_choice = np.random.randint(1, ndoors + 1, nsim)\n",
    "\n",
    "truedoorschosen_withswitch = 0\n",
    "truedoorschosen_without_switch = 0\n",
    "\n",
    "for i in range(nsim):\n",
    "    available_doors = true_locations[i, :]\n",
    "    goat_locations = np.setdiff1d(np.where(available_doors == 0)[0], initial_door_choice[i] - 1)\n",
    "    revealed_doors = goat_locations[:(ndoors - 2)]\n",
    "    switched_door_id = np.setdiff1d(np.arange(ndoors), np.append(revealed_doors, initial_door_choice[i] - 1))\n",
    "    \n",
    "    truedoorschosen_without_switch += available_doors[initial_door_choice[i] - 1]\n",
    "    truedoorschosen_withswitch += available_doors[switched_door_id[0]]\n",
    "\n",
    "print(truedoorschosen_without_switch / nsim)\n",
    "print(truedoorschosen_withswitch / nsim)"
   ]
  }
 ],
 "metadata": {
  "kernelspec": {
   "display_name": "Python 3 (ipykernel)",
   "language": "python",
   "name": "python3"
  },
  "language_info": {
   "codemirror_mode": {
    "name": "ipython",
    "version": 3
   },
   "file_extension": ".py",
   "mimetype": "text/x-python",
   "name": "python",
   "nbconvert_exporter": "python",
   "pygments_lexer": "ipython3",
   "version": "3.12.3"
  }
 },
 "nbformat": 4,
 "nbformat_minor": 5
}
